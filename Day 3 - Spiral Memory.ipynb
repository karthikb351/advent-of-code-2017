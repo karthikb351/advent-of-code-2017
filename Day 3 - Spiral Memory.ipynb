{
 "cells": [
  {
   "cell_type": "markdown",
   "metadata": {},
   "source": [
    "# [Day 3 - Spiral Memory](http://adventofcode.com/2017/day/3)\n",
    "\n",
    "### Part One\n",
    "\n",
    "You come across an experimental new kind of memory stored on an infinite two-dimensional grid.\n",
    "\n",
    "Each square on the grid is allocated in a spiral pattern starting at a location marked 1 and then counting up while spiraling outward. For example, the first few squares are allocated like this:\n",
    "```\n",
    "17  16  15  14  13\n",
    "18   5   4   3  12\n",
    "19   6   1   2  11\n",
    "20   7   8   9  10\n",
    "21  22  23 --> ...\n",
    "```\n",
    "While this is very space-efficient (no squares are skipped), requested data must be carried back to square 1 (the location of the only access port for this memory system) by programs that can only move up, down, left, or right. They always take the shortest path: the Manhattan Distance between the location of the data and square 1.\n",
    "\n",
    "For example:\n",
    "\n",
    "* Data from square 1 is carried 0 steps, since it's at the access port.\n",
    "* Data from square 12 is carried 3 steps, such as: down, left, left.\n",
    "* Data from square 23 is carried only 2 steps: up twice.\n",
    "* Data from square 1024 must be carried 31 steps.\n",
    "\n",
    "How many steps are required to carry the data from the square identified in your puzzle input all the way to the access port?"
   ]
  },
  {
   "cell_type": "code",
   "execution_count": 43,
   "metadata": {},
   "outputs": [],
   "source": [
    "input = 325489 - 1 # Since we start our spiral at 0 and the puzzle starts at 1, we subtract 1."
   ]
  },
  {
   "cell_type": "code",
   "execution_count": 50,
   "metadata": {},
   "outputs": [
    {
     "name": "stdout",
     "output_type": "stream",
     "text": [
      "Coordinates: 266.0 , -285  Distance: 551.0\n"
     ]
    }
   ],
   "source": [
    "import math\n",
    "halfL = 0\n",
    "# Find the half length of the spiral by calculating the\n",
    "# lower right corner of the squares(the highest value in the spiral)\n",
    "while input > (4*math.pow(halfL, 2) + halfL*4):\n",
    "    halfL = halfL + 1\n",
    "\n",
    "top_left = 4*math.pow(halfL, 2)\n",
    "top_right = top_left - halfL*2\n",
    "bottom_left = top_left + halfL*2\n",
    "bottom_right = top_left + halfL*4\n",
    "\n",
    "x = 0\n",
    "y = 0\n",
    "\n",
    "if input<=top_right: # On the right edge\n",
    "    x = halfL\n",
    "    y = halfL - (top_right-input)\n",
    "elif input>top_right and input<=top_left: # On the top edge\n",
    "    x = (-1*halfL) + (top_left-input)\n",
    "    y = halfL\n",
    "elif input>top_left and input<=bottom_left: # On the left edge\n",
    "    x = (-1*halfL)\n",
    "    y = halfL - (input-top_left)\n",
    "else: # On the bottom edge\n",
    "    x = (-1*halfL) + (bottom_right-input)\n",
    "    y = (-1*halfL)\n",
    "print \"Coordinates:\",x,\",\",y,\" Distance:\",math.fabs(x)+math.fabs(y)"
   ]
  },
  {
   "cell_type": "markdown",
   "metadata": {},
   "source": [
    "### Part Two\n",
    "\n",
    "As a stress test on the system, the programs here clear the grid and then store the value 1 in square 1. Then, in the same allocation order as shown above, they store the sum of the values in all adjacent squares, including diagonals.\n",
    "\n",
    "So, the first few squares' values are chosen as follows:\n",
    "\n",
    "* Square 1 starts with the value 1.\n",
    "* Square 2 has only one adjacent filled square (with value 1), so it also stores 1.\n",
    "* Square 3 has both of the above squares as neighbors and stores the sum of their values, 2.\n",
    "* Square 4 has all three of the aforementioned squares as neighbors and stores the sum of their values, 4.\n",
    "* Square 5 only has the first and fourth squares as neighbors, so it gets the value 5.\n",
    "\n",
    "Once a square is written, its value does not change. Therefore, the first few squares would receive the following values:\n",
    "```\n",
    "147  142  133  122   59\n",
    "304    5    4    2   57\n",
    "330   10    1    1   54\n",
    "351   11   23   25   26\n",
    "362  747  806 -->   ...\n",
    "```\n",
    "\n",
    "What is the first value written that is larger than your puzzle input?"
   ]
  },
  {
   "cell_type": "code",
   "execution_count": 45,
   "metadata": {},
   "outputs": [],
   "source": [
    "input = 325489 - 1 # Since we start our spiral at 0 and the puzzle starts at 1, we subtract 1."
   ]
  },
  {
   "cell_type": "code",
   "execution_count": 54,
   "metadata": {},
   "outputs": [],
   "source": [
    "RIGHT = (1,0)\n",
    "LEFT = (-1,0)\n",
    "UP = (0,1)\n",
    "DOWN = (0,-1)\n",
    "\n",
    "\n",
    "def next_direction(current_direction):\n",
    "    if current_direction == UP:\n",
    "        return LEFT\n",
    "    elif current_direction == LEFT:\n",
    "        return DOWN\n",
    "    elif current_direction == DOWN:\n",
    "        return RIGHT\n",
    "    else:\n",
    "        return UP\n",
    "\n",
    "sp = [[]]\n",
    "count = 0\n",
    "direction = None\n",
    "x,y = 0,0\n",
    "\n",
    "adj_delta = [(-1,1),(0,1),(1,1),\n",
    "            (-1,0),       (1,0),\n",
    "            (-1,-1),(0,-1),(1,-1)]\n",
    "\n",
    "def get_adj_sum(sp,x,y):\n",
    "    sum = 0\n",
    "    for a,b in adj_delta:\n",
    "        if sp.get(x+a,[]).get(y+b,None):\n",
    "            sum = sum + sp.get(x+a).get(y+b)\n",
    "    return sum\n",
    "\n",
    "def add_to_spiral():\n",
    "    if count is 0:\n",
    "        sp = sp = [[1]]\n",
    "    elif count is 1:\n",
    "        sp = sp = [[1, 1]]\n",
    "        direction = UP\n",
    "    else:\n",
    "        x = x + direction[0]\n",
    "        y = y + direction[1]\n",
    "        \n",
    "        pass\n",
    "    count = count + 1"
   ]
  },
  {
   "cell_type": "code",
   "execution_count": null,
   "metadata": {},
   "outputs": [],
   "source": []
  }
 ],
 "metadata": {
  "kernelspec": {
   "display_name": "Python 2",
   "language": "python",
   "name": "python2"
  },
  "language_info": {
   "codemirror_mode": {
    "name": "ipython",
    "version": 2
   },
   "file_extension": ".py",
   "mimetype": "text/x-python",
   "name": "python",
   "nbconvert_exporter": "python",
   "pygments_lexer": "ipython2",
   "version": "2.7.14"
  }
 },
 "nbformat": 4,
 "nbformat_minor": 2
}
