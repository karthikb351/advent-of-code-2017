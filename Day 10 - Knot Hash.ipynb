{
 "cells": [
  {
   "cell_type": "markdown",
   "metadata": {},
   "source": [
    "# [Day 10 - Knot Hash](http://adventofcode.com/2017/day/10)\n",
    "\n",
    "### Part One\n",
    "\n",
    "You come across some programs that are trying to implement a software emulation of a hash based on knot-tying. The hash these programs are implementing isn't very strong, but you decide to help them anyway. You make a mental note to remind the Elves later not to invent their own cryptographic functions.\n",
    "\n",
    "This hash function simulates tying a knot in a circle of string with 256 marks on it. Based on the input to be hashed, the function repeatedly selects a span of string, brings the ends together, and gives the span a half-twist to reverse the order of the marks within it. After doing this many times, the order of the marks is used to build the resulting hash.\n",
    "```\n",
    "  4--5   pinch   4  5           4   1\n",
    " /    \\  5,0,1  / \\/ \\  twist  / \\ / \\\n",
    "3      0  -->  3      0  -->  3   X   0\n",
    " \\    /         \\ /\\ /         \\ / \\ /\n",
    "  2--1           2  1           2   5\n",
    "```\n",
    "To achieve this, begin with a list of numbers from 0 to 255, a current position which begins at 0 (the first element in the list), a skip size (which starts at 0), and a sequence of lengths (your puzzle input). Then, for each length:\n",
    "\n",
    "Reverse the order of that length of elements in the list, starting with the element at the current position.\n",
    "Move the current position forward by that length plus the skip size.\n",
    "Increase the skip size by one.\n",
    "The list is circular; if the current position and the length try to reverse elements beyond the end of the list, the operation reverses using as many extra elements as it needs from the front of the list. If the current position moves past the end of the list, it wraps around to the front. Lengths larger than the size of the list are invalid.\n",
    "\n",
    "Here's an example using a smaller list:\n",
    "\n",
    "Suppose we instead only had a circular list containing five elements, 0, 1, 2, 3, 4, and were given input lengths of 3, 4, 1, 5.\n",
    "\n",
    "* The list begins as [0] 1 2 3 4 (where square brackets indicate the current position).\n",
    "* The first length, 3, selects ([0] 1 2) 3 4 (where parentheses indicate the sublist to be reversed).\n",
    "* After reversing that section (0 1 2 into 2 1 0), we get ([2] 1 0) 3 4.\n",
    "* Then, the current position moves forward by the length, 3, plus the skip size, 0: 2 1 0 [3] 4. Finally, the skip size increases to 1.\n",
    "* The second length, 4, selects a section which wraps: 2 1) 0 ([3] 4.\n",
    "* The sublist 3 4 2 1 is reversed to form 1 2 4 3: 4 3) 0 ([1] 2.\n",
    "* The current position moves forward by the length plus the skip size, a total of 5, causing it not to move because it wraps around: 4 3 0 [1] 2. The skip size increases to 2.\n",
    "* The third length, 1, selects a sublist of a single element, and so reversing it has no effect.\n",
    "* The current position moves forward by the length (1) plus the skip size (2): 4 [3] 0 1 2. The skip size increases to 3.\n",
    "* The fourth length, 5, selects every element starting with the second: 4) ([3] 0 1 2. Reversing this sublist (3 0 1 2 4 into 4 2 1 0 3) produces: 3) ([4] 2 1 0.\n",
    "* Finally, the current position moves forward by 8: 3 4 2 1 [0]. The skip size increases to 4.\n",
    "\n",
    "In this example, the first two numbers in the list end up being 3 and 4; to check the process, you can multiply them together to produce 12.\n",
    "\n",
    "However, you should instead use the standard list size of 256 (with values 0 to 255) and the sequence of lengths in your puzzle input. Once this process is complete, what is the result of multiplying the first two numbers in the list?\n"
   ]
  },
  {
   "cell_type": "code",
   "execution_count": 63,
   "metadata": {},
   "outputs": [],
   "source": [
    "input = \"\"\"183,0,31,146,254,240,223,150,2,206,161,1,255,232,199,88\"\"\"\n",
    "lengths = [int(v) for v in input.split(\",\")]\n",
    "l = range(256)\n",
    "skip = 0\n",
    "pos = 0 "
   ]
  },
  {
   "cell_type": "code",
   "execution_count": 64,
   "metadata": {},
   "outputs": [],
   "source": [
    "from itertools import cycle\n",
    "\n",
    "def put(p,ll):\n",
    "    for i,x in enumerate(ll):\n",
    "        l[(p+i)%len(l)] = x\n",
    "    \n",
    "def get(p, count):\n",
    "    ll = []\n",
    "    for i in range(count):\n",
    "        ll.append(l[(p+i)%len(l)])\n",
    "    return ll\n",
    "\n",
    "for length in lengths:\n",
    "    g = get(pos,length)\n",
    "    g.reverse()\n",
    "    put(pos, g)\n",
    "    pos = (pos+skip+length)%len(l)\n",
    "    skip = skip + 1"
   ]
  },
  {
   "cell_type": "code",
   "execution_count": 65,
   "metadata": {},
   "outputs": [
    {
     "name": "stdout",
     "output_type": "stream",
     "text": [
      "15990\n"
     ]
    }
   ],
   "source": [
    "print l[0]*l[1]"
   ]
  },
  {
   "cell_type": "code",
   "execution_count": null,
   "metadata": {},
   "outputs": [],
   "source": [
    "--- Part Two ---\n",
    "\n",
    "The logic you've constructed forms a single round of the Knot Hash algorithm; running the full thing requires many of these rounds. Some input and output processing is also required.\n",
    "\n",
    "First, from now on, your input should be taken not as a list of numbers, but as a string of bytes instead. Unless otherwise specified, convert characters to bytes using their ASCII codes. This will allow you to handle arbitrary ASCII strings, and it also ensures that your input lengths are never larger than 255. For example, if you are given 1,2,3, you should convert it to the ASCII codes for each character: 49,44,50,44,51.\n",
    "\n",
    "Once you have determined the sequence of lengths to use, add the following lengths to the end of the sequence: 17, 31, 73, 47, 23. For example, if you are given 1,2,3, your final sequence of lengths should be 49,44,50,44,51,17,31,73,47,23 (the ASCII codes from the input string combined with the standard length suffix values).\n",
    "\n",
    "Second, instead of merely running one round like you did above, run a total of 64 rounds, using the same length sequence in each round. The current position and skip size should be preserved between rounds. For example, if the previous example was your first round, you would start your second round with the same length sequence (3, 4, 1, 5, 17, 31, 73, 47, 23, now assuming they came from ASCII codes and include the suffix), but start with the previous round's current position (4) and skip size (4).\n",
    "\n",
    "Once the rounds are complete, you will be left with the numbers from 0 to 255 in some order, called the sparse hash. Your next task is to reduce these to a list of only 16 numbers called the dense hash. To do this, use numeric bitwise XOR to combine each consecutive block of 16 numbers in the sparse hash (there are 16 such blocks in a list of 256 numbers). So, the first element in the dense hash is the first sixteen elements of the sparse hash XOR'd together, the second element in the dense hash is the second sixteen elements of the sparse hash XOR'd together, etc.\n",
    "\n",
    "For example, if the first sixteen elements of your sparse hash are as shown below, and the XOR operator is ^, you would calculate the first output number like this:\n",
    "\n",
    "65 ^ 27 ^ 9 ^ 1 ^ 4 ^ 3 ^ 40 ^ 50 ^ 91 ^ 7 ^ 6 ^ 0 ^ 2 ^ 5 ^ 68 ^ 22 = 64\n",
    "Perform this operation on each of the sixteen blocks of sixteen numbers in your sparse hash to determine the sixteen numbers in your dense hash.\n",
    "\n",
    "Finally, the standard way to represent a Knot Hash is as a single hexadecimal string; the final output is the dense hash in hexadecimal notation. Because each number in your dense hash will be between 0 and 255 (inclusive), always represent each number as two hexadecimal digits (including a leading zero as necessary). So, if your first three numbers are 64, 7, 255, they correspond to the hexadecimal numbers 40, 07, ff, and so the first six characters of the hash would be 4007ff. Because every Knot Hash is sixteen such numbers, the hexadecimal representation is always 32 hexadecimal digits (0-f) long.\n",
    "\n",
    "Here are some example hashes:\n",
    "\n",
    "The empty string becomes a2582a3a0e66e6e86e3812dcb672a272.\n",
    "AoC 2017 becomes 33efeb34ea91902bb2f59c9920caa6cd.\n",
    "1,2,3 becomes 3efbe78a8d82f29979031a4aa0b16a9d.\n",
    "1,2,4 becomes 63960835bcdc130f0b66d7ff4f6a5a8e.\n",
    "Treating your puzzle input as a string of ASCII characters, what is the Knot Hash of your puzzle input? Ignore any leading or trailing whitespace you might encounter."
   ]
  },
  {
   "cell_type": "code",
   "execution_count": 68,
   "metadata": {},
   "outputs": [
    {
     "name": "stdout",
     "output_type": "stream",
     "text": [
      "[49, 56, 51, 44, 48, 44, 51, 49, 44, 49, 52, 54, 44, 50, 53, 52, 44, 50, 52, 48, 44, 50, 50, 51, 44, 49, 53, 48, 44, 50, 44, 50, 48, 54, 44, 49, 54, 49, 44, 49, 44, 50, 53, 53, 44, 50, 51, 50, 44, 49, 57, 57, 44, 56, 56, 17, 31, 73, 47, 23]\n"
     ]
    }
   ],
   "source": [
    "l = range(256)\n",
    "lengths = [ord(v) for v in input]  + [17, 31, 73, 47, 23]\n",
    "print lengths\n",
    "skip = 0\n",
    "pos = 0 "
   ]
  },
  {
   "cell_type": "code",
   "execution_count": 69,
   "metadata": {},
   "outputs": [],
   "source": [
    "for s in range(64):\n",
    "    for length in lengths:\n",
    "        g = get(pos,length)\n",
    "        g.reverse()\n",
    "        put(pos, g)\n",
    "        pos = (pos+skip+length)%len(l)\n",
    "        skip = skip + 1\n",
    "part2 = []\n",
    "for k in range(16):\n",
    "    part2.append(reduce((lambda x,y: x ^ y),l[16*x:16*x+16]))"
   ]
  },
  {
   "cell_type": "code",
   "execution_count": 72,
   "metadata": {},
   "outputs": [
    {
     "name": "stdout",
     "output_type": "stream",
     "text": [
      "90adb097dd55dea8305c90372258ac6\n"
     ]
    }
   ],
   "source": [
    "print \"\".join([\"%x\"%v for v in part2])"
   ]
  },
  {
   "cell_type": "code",
   "execution_count": null,
   "metadata": {},
   "outputs": [],
   "source": []
  }
 ],
 "metadata": {
  "kernelspec": {
   "display_name": "Python 2",
   "language": "python",
   "name": "python2"
  },
  "language_info": {
   "codemirror_mode": {
    "name": "ipython",
    "version": 2
   },
   "file_extension": ".py",
   "mimetype": "text/x-python",
   "name": "python",
   "nbconvert_exporter": "python",
   "pygments_lexer": "ipython2",
   "version": "2.7.14"
  }
 },
 "nbformat": 4,
 "nbformat_minor": 2
}
