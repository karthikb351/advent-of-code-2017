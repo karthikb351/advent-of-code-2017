{
 "cells": [
  {
   "cell_type": "markdown",
   "metadata": {},
   "source": [
    "# [Day 6 - Memory Reallocation](http://adventofcode.com/2017/day/6)\n",
    "\n",
    "### Part One\n",
    "\n",
    "A debugger program here is having an issue: it is trying to repair a memory reallocation routine, but it keeps getting stuck in an infinite loop.\n",
    "\n",
    "In this area, there are sixteen memory banks; each memory bank can hold any number of blocks. The goal of the reallocation routine is to balance the blocks between the memory banks.\n",
    "\n",
    "The reallocation routine operates in cycles. In each cycle, it finds the memory bank with the most blocks (ties won by the lowest-numbered memory bank) and redistributes those blocks among the banks. To do this, it removes all of the blocks from the selected bank, then moves to the next (by index) memory bank and inserts one of the blocks. It continues doing this until it runs out of blocks; if it reaches the last memory bank, it wraps around to the first one.\n",
    "\n",
    "The debugger would like to know how many redistributions can be done before a blocks-in-banks configuration is produced that has been seen before.\n",
    "\n",
    "For example, imagine a scenario with only four memory banks:\n",
    "\n",
    "* The banks start with 0, 2, 7, and 0 blocks. The third bank has the most blocks, so it is chosen for redistribution.\n",
    "* Starting with the next bank (the fourth bank) and then continuing to the first bank, the second bank, and so on, the 7 blocks are spread out over the memory banks. The fourth, first, and second banks get two blocks each, and the third bank gets one back. The final result looks like this: 2 4 1 2.\n",
    "* Next, the second bank is chosen because it contains the most blocks (four). Because there are four memory banks, each gets one block. The result is: 3 1 2 3.\n",
    "* Now, there is a tie between the first and fourth memory banks, both of which have three blocks. The first bank wins the tie, and its three blocks are distributed evenly over the other three banks, leaving it with none: 0 2 3 4.\n",
    "* The fourth bank is chosen, and its four blocks are distributed such that each of the four banks receives one: 1 3 4 1.\n",
    "* The third bank is chosen, and the same thing happens: 2 4 1 2.\n",
    "* At this point, we've reached a state we've seen before: 2 4 1 2 was already seen. The infinite loop is detected after the fifth block redistribution cycle, and so the answer in this example is 5.\n",
    "\n",
    "Given the initial block counts in your puzzle input, how many redistribution cycles must be completed before a configuration is produced that has been seen before?"
   ]
  },
  {
   "cell_type": "code",
   "execution_count": 1,
   "metadata": {},
   "outputs": [],
   "source": [
    "input = \"4\t10\t4\t1\t8\t4\t9\t14\t5\t1\t14\t15\t0\t15\t3\t5\""
   ]
  },
  {
   "cell_type": "code",
   "execution_count": 2,
   "metadata": {},
   "outputs": [],
   "source": [
    "banks = [int(v) for v in input.split(\"\\t\")]\n",
    "combinations = [banks[:]] # banks[:] makes a copy of the list instead of a reference\n",
    "repeated_combination = None # For the second part, we keep track of the combination that is repeated\n",
    "while True:\n",
    "    m_blocks = max(banks)\n",
    "    m_blocks_bank_i = banks.index(m_blocks) # Will always give the first maximum from the left\n",
    "    banks[m_blocks_bank_i] = 0 # Take all the blocks out\n",
    "#     print banks\n",
    "    i = (m_blocks_bank_i + 1)%len(banks)\n",
    "    while m_blocks > 0:\n",
    "        banks[i] = banks[i] + 1\n",
    "        m_blocks = m_blocks - 1\n",
    "        i = (i + 1)%len(banks)\n",
    "    if banks in combinations:\n",
    "        repeated_combination = banks\n",
    "        break\n",
    "    else:\n",
    "        combinations.append(banks[:])"
   ]
  },
  {
   "cell_type": "code",
   "execution_count": 3,
   "metadata": {},
   "outputs": [
    {
     "data": {
      "text/plain": [
       "12841"
      ]
     },
     "execution_count": 3,
     "metadata": {},
     "output_type": "execute_result"
    }
   ],
   "source": [
    "len(combinations)"
   ]
  },
  {
   "cell_type": "markdown",
   "metadata": {},
   "source": [
    "### Part Two\n",
    "\n",
    "Out of curiosity, the debugger would also like to know the size of the loop: starting from a state that has already been seen, how many block redistribution cycles must be performed before that same state is seen again?\n",
    "\n",
    "In the example above, 2 4 1 2 is seen again after four cycles, and so the answer in that example would be 4.\n",
    "\n",
    "How many cycles are in the infinite loop that arises from the configuration in your puzzle input?"
   ]
  },
  {
   "cell_type": "code",
   "execution_count": 4,
   "metadata": {},
   "outputs": [
    {
     "data": {
      "text/plain": [
       "8038"
      ]
     },
     "execution_count": 4,
     "metadata": {},
     "output_type": "execute_result"
    }
   ],
   "source": [
    "len(combinations)-combinations.index(repeated_combination) # Find the length from the index of the repeated combination to the end of the list"
   ]
  }
 ],
 "metadata": {
  "kernelspec": {
   "display_name": "Python 2",
   "language": "python",
   "name": "python2"
  },
  "language_info": {
   "codemirror_mode": {
    "name": "ipython",
    "version": 2
   },
   "file_extension": ".py",
   "mimetype": "text/x-python",
   "name": "python",
   "nbconvert_exporter": "python",
   "pygments_lexer": "ipython2",
   "version": "2.7.14"
  }
 },
 "nbformat": 4,
 "nbformat_minor": 2
}
